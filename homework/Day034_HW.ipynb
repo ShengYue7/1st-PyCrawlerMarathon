{
 "cells": [
  {
   "cell_type": "markdown",
   "metadata": {
    "colab_type": "text",
    "id": "I8CoX4R7VoCd"
   },
   "source": [
    "# 反爬：代理伺服器/IP\n",
    "\n",
    "* 了解「IP 黑/白名單」的反爬蟲機制\n",
    "* 「IP 黑/白名單」反爬蟲的因應策略"
   ]
  },
  {
   "cell_type": "markdown",
   "metadata": {
    "colab_type": "text",
    "id": "n-3DZ_r5VoCe"
   },
   "source": [
    "## 作業目標\n",
    "\n",
    "* 目前程式中的 proxy_ips 是手動輸入的，請根據 https://free-proxy-list.net/ 寫一個可自動化抓取可用 Proxy 的 proxy_ips。\n",
    "\n",
    "\n"
   ]
  },
  {
   "cell_type": "code",
   "execution_count": null,
   "metadata": {},
   "outputs": [],
   "source": [
    "from bs4 import BeautifulSoup\n",
    "import requests\n",
    "import random\n",
    "import time\n",
    "from selenium import webdriver\n",
    "from selenium.webdriver.common.keys import Keys\n",
    "\n",
    "proxy_ips=[]\n",
    "\n",
    "proxy_url='https://free-proxy-list.net/'\n",
    "browser=webdriver.Chrome()\n",
    "browser.get(proxy_url)  # 打開瀏覽器並連到網頁\n",
    "time.sleep(2)  # delay一段時間等待網頁更新完成\n",
    "\n",
    "# n=0\n",
    "while True:\n",
    "    time.sleep(2)  # delay一段時間等待網頁更新完成\n",
    "    html=browser.page_source\n",
    "    soup=BeautifulSoup(html, 'lxml')\n",
    "    table=soup.find(name = 'table',attrs = {'id':'proxylisttable'})\n",
    "    tbody=table.find('tbody')\n",
    "    \n",
    "    for tr in tbody:\n",
    "        ip=tr.td.string\n",
    "        port=tr.td.next_sibling.string\n",
    "        proxy_ips.append(ip+':'+port)\n",
    "#     print(proxy_ips)\n",
    "\n",
    "    n+=1\n",
    "    print(f'第{n}頁已爬完')\n",
    "    for i in range(1):\n",
    "        browser.find_element_by_xpath(\"//li[@class='fg-button ui-button ui-state-default next']/a\").click()\n",
    "        break\n",
    "#     nextpage = browser.find_element_by_xpath(\"//li[@class='fg-button ui-button ui-state-default next']/a/disabled\")\n",
    "#     if nextpage is not None:\n",
    "#         print(f'沒有下一頁了，共{n}頁')\n",
    "#         break\n",
    "#     else:\n",
    "#         browser.find_element_by_xpath(\"//li[@class='fg-button ui-button ui-state-default next']/a\").click()"
   ]
  },
  {
   "cell_type": "code",
   "execution_count": 0,
   "metadata": {
    "colab": {},
    "colab_type": "code",
    "id": "75dIsHjiVoCi"
   },
   "outputs": [],
   "source": [
    "for i in range(10):\n",
    "    ip = random.choice(proxy_ips)\n",
    "    print('Use', ip)\n",
    "    try:\n",
    "        resp = requests.get('http://ip.filefab.com/index.php',\n",
    "                        proxies={'http': ip, 'https': ip}, timeout=10)\n",
    "        soup = BeautifulSoup(resp.text, 'html5lib')\n",
    "        print(soup.find('h1', id='ipd').text.strip())\n",
    "    except:\n",
    "        print('Fail')"
   ]
  }
 ],
 "metadata": {
  "colab": {
   "name": "homework.ipynb",
   "provenance": []
  },
  "kernelspec": {
   "display_name": "Python 3",
   "language": "python",
   "name": "python3"
  },
  "language_info": {
   "codemirror_mode": {
    "name": "ipython",
    "version": 3
   },
   "file_extension": ".py",
   "mimetype": "text/x-python",
   "name": "python",
   "nbconvert_exporter": "python",
   "pygments_lexer": "ipython3",
   "version": "3.7.3"
  }
 },
 "nbformat": 4,
 "nbformat_minor": 1
}
