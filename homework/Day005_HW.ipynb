{
 "cells": [
  {
   "cell_type": "markdown",
   "metadata": {},
   "source": [
    "# API 資料串接 - 以 Dcard API 實作範例\n",
    "\n",
    "* 了解 Dcard API 使用方式與回傳內容\n",
    "* 撰寫程式存取 API 且解析 JSON 格式資料\n"
   ]
  },
  {
   "cell_type": "markdown",
   "metadata": {},
   "source": [
    "## 作業目標\n",
    "\n",
    "* 請利用 API: https://www.dcard.tw/_api/forums/pet/posts?popular=true 回答下列問題：\n",
    "\n",
    "1. 這個 API 一次會回傳幾筆資料？每一筆資料包含哪些欄位？\n",
    "2. 取出每一筆資料的「標題」、「貼文時間」、「留言人數」、「按讚人數」\n",
    "3. 計算熱門/非熱門文章的「平均留言人數」與「平均按讚人數」"
   ]
  },
  {
   "cell_type": "code",
   "execution_count": 1,
   "metadata": {},
   "outputs": [
    {
     "name": "stdout",
     "output_type": "stream",
     "text": [
      "這個 API 一次會回傳30筆資料\n",
      "每一筆資料包含以下資料: dict_keys(['id', 'title', 'excerpt', 'anonymousSchool', 'anonymousDepartment', 'pinned', 'forumId', 'replyId', 'createdAt', 'updatedAt', 'commentCount', 'likeCount', 'withNickname', 'tags', 'topics', 'meta', 'forumName', 'forumAlias', 'gender', 'school', 'replyTitle', 'mediaMeta', 'reactions', 'hidden', 'customStyle', 'isSuspiciousAccount', 'layout', 'withImages', 'withVideos', 'media', 'reportReasonText', 'postAvatar'])\n"
     ]
    }
   ],
   "source": [
    "# 1. 這個 API 一次會回傳幾筆資料？每一筆資料包含哪些欄位？\n",
    "import requests\n",
    "r=requests.get('https://www.dcard.tw/_api/forums/pet/posts?popular=true')\n",
    "response=r.text\n",
    "\n",
    "import json\n",
    "data=json.loads(response)\n",
    "count_number=0\n",
    "\n",
    "for d in data:\n",
    "    count_number+=1\n",
    "print('這個 API 一次會回傳%s筆資料'%count_number)\n",
    "print('每一筆資料包含以下資料:',data[1].keys())"
   ]
  },
  {
   "cell_type": "code",
   "execution_count": 2,
   "metadata": {},
   "outputs": [
    {
     "name": "stdout",
     "output_type": "stream",
     "text": [
      "標題: 公佈偷窺者長相 貼文時間: 2020-02-03T23:21:26.093Z 留言人數: 114 按讚人數: 3542\n",
      "標題: ⚠️注意⚠️ 愛狗人士請進 貼文時間: 2020-02-04T03:44:00.597Z 留言人數: 45 按讚人數: 655\n",
      "標題: #問 限時上的量體重貓貓！ 貼文時間: 2020-02-04T09:15:41.744Z 留言人數: 9 按讚人數: 225\n",
      "標題: 我滴貓 貼文時間: 2020-02-04T00:04:20.536Z 留言人數: 20 按讚人數: 207\n",
      "標題: 最不情願的道歉 貼文時間: 2020-02-04T12:05:51.711Z 留言人數: 7 按讚人數: 84\n",
      "標題: 判若兩犬 貼文時間: 2020-02-04T08:31:07.811Z 留言人數: 1 按讚人數: 69\n",
      "標題: 限時可愛的貓貓 貼文時間: 2020-02-04T17:05:40.103Z 留言人數: 6 按讚人數: 59\n",
      "標題: 舒適小貓咪 貼文時間: 2020-02-04T14:19:32.631Z 留言人數: 5 按讚人數: 46\n",
      "標題: #失蹤協尋 #貓咪走失 請大家幫幫忙！！ 貼文時間: 2020-02-04T05:31:49.431Z 留言人數: 2 按讚人數: 24\n",
      "標題: 兔子貓！ 貼文時間: 2020-02-05T03:13:07.022Z 留言人數: 0 按讚人數: 20\n",
      "標題: 限時動態的超級背殺 貼文時間: 2020-02-05T06:35:43.890Z 留言人數: 0 按讚人數: 15\n",
      "標題: ⚠️貓居然會戴口罩？⚠️ 貼文時間: 2020-02-04T21:45:23.434Z 留言人數: 3 按讚人數: 15\n",
      "標題: 臘腸狗的一百種變裝派對 貼文時間: 2020-02-04T15:15:46.993Z 留言人數: 2 按讚人數: 14\n",
      "標題: 輔仁大學的同學，你的貓貓背影好可愛 貼文時間: 2020-02-04T14:37:56.554Z 留言人數: 2 按讚人數: 12\n",
      "標題: 來蓋個相親相愛樓吧！ 貼文時間: 2020-02-04T12:51:30.178Z 留言人數: 2 按讚人數: 12\n",
      "標題: 領養一隻貓要付9300合理嗎 貼文時間: 2020-02-04T12:53:38.557Z 留言人數: 22 按讚人數: 11\n",
      "標題: 限時出現貓界大眼李榮浩 貼文時間: 2020-02-04T18:35:45.716Z 留言人數: 1 按讚人數: 10\n",
      "標題: #問 不安的銀狐寶寶(文長） 貼文時間: 2020-02-04T10:36:58.018Z 留言人數: 6 按讚人數: 10\n",
      "標題: 幫派紛爭 貼文時間: 2020-02-04T16:38:25.062Z 留言人數: 1 按讚人數: 9\n",
      "標題: 草皮上的萌寵 貼文時間: 2020-02-04T15:18:19.626Z 留言人數: 0 按讚人數: 8\n",
      "標題: 帶狗出外散步請繫繩好嗎？ 貼文時間: 2020-02-04T15:08:30.226Z 留言人數: 2 按讚人數: 8\n",
      "標題: 貓咪協尋 貼文時間: 2020-02-05T01:03:54.398Z 留言人數: 0 按讚人數: 7\n",
      "標題: 急！大家知道這是什麼的幼鳥嗎？（剛撿到的） 貼文時間: 2020-02-04T04:16:28.841Z 留言人數: 13 按讚人數: 7\n",
      "標題: 吼不准你這麼可愛 貼文時間: 2020-02-04T20:47:25.380Z 留言人數: 0 按讚人數: 6\n",
      "標題: #我家一坨麻糬（？ 貼文時間: 2020-02-04T17:43:55.112Z 留言人數: 4 按讚人數: 6\n",
      "標題: 想要可愛的寵物圖當桌布 貼文時間: 2020-02-04T08:36:45.504Z 留言人數: 13 按讚人數: 6\n",
      "標題: 我沒有貓可以曬 貼文時間: 2020-02-04T08:36:23.790Z 留言人數: 1 按讚人數: 6\n",
      "標題: 卯迷狗強勢回歸 貼文時間: 2020-02-05T03:58:15.392Z 留言人數: 2 按讚人數: 5\n",
      "標題: 異色瞳白貓2—兄妹 貼文時間: 2020-02-05T03:56:23.549Z 留言人數: 2 按讚人數: 5\n",
      "標題: 如果能在給我一次機會，我不會在猶豫 貼文時間: 2020-02-04T21:06:42.035Z 留言人數: 3 按讚人數: 5\n"
     ]
    }
   ],
   "source": [
    "# 2. 取出每一筆資料的「標題」、「貼文時間」、「留言人數」、「按讚人數」\n",
    "for d in data:\n",
    "    print('標題:',d['title'],'貼文時間:',d['createdAt'],'留言人數:',d['commentCount'],'按讚人數:',d['likeCount'])"
   ]
  },
  {
   "cell_type": "code",
   "execution_count": 3,
   "metadata": {},
   "outputs": [
    {
     "name": "stdout",
     "output_type": "stream",
     "text": [
      "熱門文章的「平均留言人數」: 9.6\n",
      "熱門文章的「平均按讚人數」: 85.13333333333334\n",
      "非熱門文章的「平均留言人數」: 9.6\n",
      "非熱門文章的「平均按讚人數」: 2.1666666666666665\n"
     ]
    }
   ],
   "source": [
    "# 3. 計算熱門/非熱門文章的「平均留言人數」與「平均按讚人數」\n",
    "# 先初始設定熱門文章數量\n",
    "count_number = 0\n",
    "\n",
    "# 計算熱門文章的「平均留言人數」\n",
    "comment_count = 0\n",
    "for comment in data:\n",
    "    count_number += 1\n",
    "    comment_count += comment['commentCount']\n",
    "print('熱門文章的「平均留言人數」:', comment_count/count_number)\n",
    "\n",
    "# 計算熱門文章的「平均按讚人數」\n",
    "like_count = 0\n",
    "for like in data:\n",
    "    count_number += 1\n",
    "    like_count += like['likeCount']\n",
    "print('熱門文章的「平均按讚人數」:', like_count/count_number)\n",
    "\n",
    "# 取得非熱門文章資料\n",
    "# 引入函式庫 ps.f為false之意\n",
    "rf = requests.get('https://www.dcard.tw/_api/forums/pet/posts?popular=false')\n",
    "# 想要爬資料的⽬標網址\n",
    "responsef = rf.text\n",
    "\n",
    "dataf = json.loads(responsef)\n",
    "\n",
    "# 先初始設定非熱門文章數量\n",
    "countf_number = 0\n",
    "\n",
    "# 計算熱門文章的「平均留言人數」\n",
    "commentf_count = 0\n",
    "for commentf in data:\n",
    "    countf_number += 1\n",
    "    commentf_count += commentf['commentCount']\n",
    "\n",
    "print('非熱門文章的「平均留言人數」:', commentf_count/countf_number)\n",
    "\n",
    "# 計算非熱門文章的「平均按讚人數」\n",
    "likef_count = 0\n",
    "\n",
    "for likef in dataf:\n",
    "    countf_number +=1\n",
    "    likef_count += likef['likeCount']\n",
    "print('非熱門文章的「平均按讚人數」:', likef_count/countf_number)"
   ]
  }
 ],
 "metadata": {
  "kernelspec": {
   "display_name": "Python 3",
   "language": "python",
   "name": "python3"
  },
  "language_info": {
   "codemirror_mode": {
    "name": "ipython",
    "version": 3
   },
   "file_extension": ".py",
   "mimetype": "text/x-python",
   "name": "python",
   "nbconvert_exporter": "python",
   "pygments_lexer": "ipython3",
   "version": "3.7.3"
  }
 },
 "nbformat": 4,
 "nbformat_minor": 2
}
